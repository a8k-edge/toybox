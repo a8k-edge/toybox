{
 "cells": [
  {
   "cell_type": "code",
   "execution_count": 12,
   "id": "a5e0ff84-96cc-420d-805f-bb21e8badd33",
   "metadata": {},
   "outputs": [],
   "source": [
    "import pyarrow as pa\n",
    "import pyarrow.parquet as pq\n",
    "import pyarrow.compute as pc\n",
    "\n",
    "\n",
    "table = pq.read_table('yellow_tripdata_2024-01.parquet')"
   ]
  },
  {
   "cell_type": "code",
   "execution_count": 7,
   "id": "21637035-100a-4429-a7b4-9d8634beda79",
   "metadata": {},
   "outputs": [
    {
     "data": {
      "text/plain": [
       "['VendorID',\n",
       " 'tpep_pickup_datetime',\n",
       " 'tpep_dropoff_datetime',\n",
       " 'passenger_count',\n",
       " 'trip_distance',\n",
       " 'RatecodeID',\n",
       " 'store_and_fwd_flag',\n",
       " 'PULocationID',\n",
       " 'DOLocationID',\n",
       " 'payment_type',\n",
       " 'fare_amount',\n",
       " 'extra',\n",
       " 'mta_tax',\n",
       " 'tip_amount',\n",
       " 'tolls_amount',\n",
       " 'improvement_surcharge',\n",
       " 'total_amount',\n",
       " 'congestion_surcharge',\n",
       " 'Airport_fee']"
      ]
     },
     "execution_count": 7,
     "metadata": {},
     "output_type": "execute_result"
    }
   ],
   "source": [
    "table.column_names"
   ]
  },
  {
   "cell_type": "code",
   "execution_count": 40,
   "id": "50b0cbf9-6168-4671-84f8-acdf24c79520",
   "metadata": {},
   "outputs": [
    {
     "name": "stdout",
     "output_type": "stream",
     "text": [
      "Mean: 18.175061916789446\n",
      "Min: -899.0\n",
      "Max: 5000.0\n",
      "Standard deviation: 18.94954450996049\n"
     ]
    }
   ],
   "source": [
    "col = table['fare_amount']\n",
    "\n",
    "mean_distance = pc.mean(col).as_py()\n",
    "min_distance = pc.min(col).as_py()\n",
    "max_distance = pc.max(col).as_py()\n",
    "std_distance = pc.stddev(col).as_py()\n",
    "\n",
    "print(f\"Mean: {mean_distance}\")\n",
    "print(f\"Min: {min_distance}\")\n",
    "print(f\"Max: {max_distance}\")\n",
    "print(f\"Standard deviation: {std_distance}\")"
   ]
  },
  {
   "cell_type": "code",
   "execution_count": 46,
   "id": "bf2e45c9-d683-4bc1-be1d-f5567fe8022f",
   "metadata": {},
   "outputs": [
    {
     "data": {
      "text/plain": [
       "array([[<Axes: title={'center': 'fare_amount'}>]], dtype=object)"
      ]
     },
     "execution_count": 46,
     "metadata": {},
     "output_type": "execute_result"
    },
    {
     "data": {
      "image/png": "[encoded data removed]",
      "text/plain": [
       "<Figure size 640x480 with 1 Axes>"
      ]
     },
     "metadata": {},
     "output_type": "display_data"
    }
   ],
   "source": [
    "import pandas as pd\n",
    "import numpy as np\n",
    "import matplotlib.pyplot as plt\n",
    "from scipy import stats\n",
    "\n",
    "df = table.to_pandas()\n",
    "\n",
    "stats.zscore(df['fare_amount'])\n",
    "# Remove everything larger than 3 stddev\n",
    "df = df[(np.abs(stats.zscore(df['fare_amount'])) < 3)]\n",
    "df = df[df['fare_amount'] > 0]\n",
    "df.hist(column='fare_amount')"
   ]
  },
  {
   "cell_type": "code",
   "execution_count": null,
   "id": "83ae9118-2d60-472e-80a5-dd03cef8052a",
   "metadata": {},
   "outputs": [],
   "source": []
  }
 ],
 "metadata": {
  "kernelspec": {
   "display_name": "Python 3 (ipykernel)",
   "language": "python",
   "name": "python3"
  },
  "language_info": {
   "codemirror_mode": {
    "name": "ipython",
    "version": 3
   },
   "file_extension": ".py",
   "mimetype": "text/x-python",
   "name": "python",
   "nbconvert_exporter": "python",
   "pygments_lexer": "ipython3",
   "version": "3.11.1"
  }
 },
 "nbformat": 4,
 "nbformat_minor": 5
}
